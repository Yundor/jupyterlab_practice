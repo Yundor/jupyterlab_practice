{
 "cells": [
  {
   "cell_type": "markdown",
   "id": "243773af-b2b3-4e82-9371-da3fd48744b4",
   "metadata": {},
   "source": [
    "# Yundor\n",
    "Notebook for assignment 7"
   ]
  },
  {
   "cell_type": "code",
   "execution_count": 1,
   "id": "e8437a94-bc44-462e-9185-dbb28d5255af",
   "metadata": {
    "tags": []
   },
   "outputs": [
    {
     "name": "stdout",
     "output_type": "stream",
     "text": [
      "5.0\n"
     ]
    }
   ],
   "source": [
    "# This is a function to calculate the mean value\n",
    "\n",
    "def compute_mean(numbers):\n",
    "    total = sum(numbers)\n",
    "    count = len(numbers)\n",
    "    \n",
    "    if count == 0:\n",
    "        print(\"Error: Cannot compute mean of an empty list.\")\n",
    "        return\n",
    "    \n",
    "    mean = total / count\n",
    "    print(mean)\n",
    "\n",
    "# Example usage\n",
    "compute_mean([2, 4, 6, 8])"
   ]
  },
  {
   "cell_type": "markdown",
   "id": "7f4ddcf6-1212-4b8c-94d4-30bb18269383",
   "metadata": {},
   "source": [
    "## Function Explaination\n",
    "As illustrated above, 'compute_mean' is a Python function that computes the mean of the values in a list and prints the results.\n",
    "\n",
    "$$\n",
    "(\\bar{x} = \\frac{x_{1} + x_{2} + ... + x_{n}}{n} = \\frac{1}{n} \\left(\\sum_{i=1}^n x_i\\right)\n",
    "$$"
   ]
  },
  {
   "cell_type": "code",
   "execution_count": null,
   "id": "0683bb63-4909-4732-b211-4781ccb19037",
   "metadata": {},
   "outputs": [],
   "source": []
  }
 ],
 "metadata": {
  "kernelspec": {
   "display_name": "Python 3 (ipykernel)",
   "language": "python",
   "name": "python3"
  },
  "language_info": {
   "codemirror_mode": {
    "name": "ipython",
    "version": 3
   },
   "file_extension": ".py",
   "mimetype": "text/x-python",
   "name": "python",
   "nbconvert_exporter": "python",
   "pygments_lexer": "ipython3",
   "version": "3.10.10"
  }
 },
 "nbformat": 4,
 "nbformat_minor": 5
}
